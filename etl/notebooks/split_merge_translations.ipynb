{
 "cells": [
  {
   "cell_type": "markdown",
   "metadata": {},
   "source": [
    "# Split and Merge Transalation files\n",
    "\n",
    "Workflow: https://docs.google.com/document/d/11d5D5CPlr6I2BqP8z0p2o_dYQC9AYUyxcLGUq1WYCfk/edit#"
   ]
  },
  {
   "cell_type": "code",
   "execution_count": 1,
   "metadata": {
    "collapsed": true
   },
   "outputs": [],
   "source": [
    "import pandas as pd\n",
    "import json\n",
    "import os"
   ]
  },
  {
   "cell_type": "code",
   "execution_count": 2,
   "metadata": {
    "collapsed": true
   },
   "outputs": [],
   "source": [
    "# see what's in datapackage.json\n",
    "\n",
    "datapackagejson = '../../datapackage.json'"
   ]
  },
  {
   "cell_type": "code",
   "execution_count": 3,
   "metadata": {
    "collapsed": false,
    "scrolled": false
   },
   "outputs": [
    {
     "name": "stdout",
     "output_type": "stream",
     "text": [
      "\u001b[1;39m[\r\n",
      "  \u001b[0;32m\"author\"\u001b[0m\u001b[1;39m,\r\n",
      "  \u001b[0;32m\"description\"\u001b[0m\u001b[1;39m,\r\n",
      "  \u001b[0;32m\"language\"\u001b[0m\u001b[1;39m,\r\n",
      "  \u001b[0;32m\"license\"\u001b[0m\u001b[1;39m,\r\n",
      "  \u001b[0;32m\"name\"\u001b[0m\u001b[1;39m,\r\n",
      "  \u001b[0;32m\"resources\"\u001b[0m\u001b[1;39m,\r\n",
      "  \u001b[0;32m\"title\"\u001b[0m\u001b[1;39m,\r\n",
      "  \u001b[0;32m\"translations\"\u001b[0m\u001b[1;39m,\r\n",
      "  \u001b[0;32m\"version\"\u001b[0m\u001b[1;39m\r\n",
      "\u001b[1;39m]\u001b[0m\r\n"
     ]
    }
   ],
   "source": [
    "!jq 'keys' $datapackagejson"
   ]
  },
  {
   "cell_type": "code",
   "execution_count": 4,
   "metadata": {
    "collapsed": false
   },
   "outputs": [
    {
     "name": "stdout",
     "output_type": "stream",
     "text": [
      "\u001b[1;39m{\r\n",
      "  \u001b[0m\u001b[34;1m\"id\"\u001b[0m\u001b[1;39m: \u001b[0m\u001b[0;32m\"nl-nl\"\u001b[0m\u001b[1;39m,\r\n",
      "  \u001b[0m\u001b[34;1m\"name\"\u001b[0m\u001b[1;39m: \u001b[0m\u001b[0;32m\"Nederlands (Nederland)\"\u001b[0m\u001b[1;39m\r\n",
      "\u001b[1;39m}\u001b[0m\r\n"
     ]
    }
   ],
   "source": [
    "!jq '.translations' $datapackagejson"
   ]
  },
  {
   "cell_type": "code",
   "execution_count": 5,
   "metadata": {
    "collapsed": false
   },
   "outputs": [
    {
     "name": "stdout",
     "output_type": "stream",
     "text": [
      "\u001b[1;39m{\r\n",
      "  \u001b[0m\u001b[34;1m\"path\"\u001b[0m\u001b[1;39m: \u001b[0m\u001b[0;32m\"ddf--datapoints--company_size--by--company--anno.csv\"\u001b[0m\u001b[1;39m,\r\n",
      "  \u001b[0m\u001b[34;1m\"name\"\u001b[0m\u001b[1;39m: \u001b[0m\u001b[0;32m\"ddf--datapoints--company_size--by--company--anno\"\u001b[0m\u001b[1;39m,\r\n",
      "  \u001b[0m\u001b[34;1m\"schema\"\u001b[0m\u001b[1;39m: \u001b[0m\u001b[1;39m{\r\n",
      "    \u001b[0m\u001b[34;1m\"fields\"\u001b[0m\u001b[1;39m: \u001b[0m\u001b[1;39m[\r\n",
      "      \u001b[1;39m{\r\n",
      "        \u001b[0m\u001b[34;1m\"name\"\u001b[0m\u001b[1;39m: \u001b[0m\u001b[0;32m\"company\"\u001b[0m\u001b[1;39m\r\n",
      "      \u001b[1;39m}\u001b[0m\u001b[1;39m,\r\n",
      "      \u001b[1;39m{\r\n",
      "        \u001b[0m\u001b[34;1m\"name\"\u001b[0m\u001b[1;39m: \u001b[0m\u001b[0;32m\"anno\"\u001b[0m\u001b[1;39m\r\n",
      "      \u001b[1;39m}\u001b[0m\u001b[1;39m,\r\n",
      "      \u001b[1;39m{\r\n",
      "        \u001b[0m\u001b[34;1m\"name\"\u001b[0m\u001b[1;39m: \u001b[0m\u001b[0;32m\"company_size\"\u001b[0m\u001b[1;39m\r\n",
      "      \u001b[1;39m}\u001b[0m\u001b[1;39m\r\n",
      "    \u001b[1;39m]\u001b[0m\u001b[1;39m,\r\n",
      "    \u001b[0m\u001b[34;1m\"primaryKey\"\u001b[0m\u001b[1;39m: \u001b[0m\u001b[1;39m[\r\n",
      "      \u001b[0;32m\"company\"\u001b[0m\u001b[1;39m,\r\n",
      "      \u001b[0;32m\"anno\"\u001b[0m\u001b[1;39m\r\n",
      "    \u001b[1;39m]\u001b[0m\u001b[1;39m\r\n",
      "  \u001b[1;39m}\u001b[0m\u001b[1;39m\r\n",
      "\u001b[1;39m}\u001b[0m\r\n"
     ]
    }
   ],
   "source": [
    "!jq '.resources[1]' $datapackagejson"
   ]
  },
  {
   "cell_type": "code",
   "execution_count": 7,
   "metadata": {
    "collapsed": false
   },
   "outputs": [],
   "source": [
    "with open(datapackagejson) as f:\n",
    "    datapackage = json.load(f)"
   ]
  },
  {
   "cell_type": "code",
   "execution_count": null,
   "metadata": {
    "collapsed": true
   },
   "outputs": [],
   "source": []
  },
  {
   "cell_type": "markdown",
   "metadata": {},
   "source": [
    "# split\n",
    "\n",
    "Let's say we are going to create a `zh_cn` folder"
   ]
  },
  {
   "cell_type": "code",
   "execution_count": 16,
   "metadata": {
    "collapsed": true
   },
   "outputs": [],
   "source": [
    "lang = 'zh_cn'"
   ]
  },
  {
   "cell_type": "code",
   "execution_count": 17,
   "metadata": {
    "collapsed": false
   },
   "outputs": [],
   "source": [
    "os.makedirs('../../lang/'+lang)"
   ]
  },
  {
   "cell_type": "code",
   "execution_count": 9,
   "metadata": {
    "collapsed": true
   },
   "outputs": [],
   "source": [
    "concepts = pd.read_csv('../../ddf--concepts.csv')"
   ]
  },
  {
   "cell_type": "code",
   "execution_count": 10,
   "metadata": {
    "collapsed": true
   },
   "outputs": [],
   "source": [
    "concepts = concepts.set_index('concept')"
   ]
  },
  {
   "cell_type": "code",
   "execution_count": 11,
   "metadata": {
    "collapsed": false
   },
   "outputs": [
    {
     "data": {
      "text/html": [
       "<div>\n",
       "<table border=\"1\" class=\"dataframe\">\n",
       "  <thead>\n",
       "    <tr style=\"text-align: right;\">\n",
       "      <th></th>\n",
       "      <th>concept_type</th>\n",
       "      <th>domain</th>\n",
       "    </tr>\n",
       "    <tr>\n",
       "      <th>concept</th>\n",
       "      <th></th>\n",
       "      <th></th>\n",
       "    </tr>\n",
       "  </thead>\n",
       "  <tbody>\n",
       "    <tr>\n",
       "      <th>company</th>\n",
       "      <td>entity_domain</td>\n",
       "      <td>NaN</td>\n",
       "    </tr>\n",
       "    <tr>\n",
       "      <th>english_speaking_company</th>\n",
       "      <td>entity_set</td>\n",
       "      <td>company</td>\n",
       "    </tr>\n",
       "    <tr>\n",
       "      <th>foundation</th>\n",
       "      <td>entity_set</td>\n",
       "      <td>company</td>\n",
       "    </tr>\n",
       "    <tr>\n",
       "      <th>name</th>\n",
       "      <td>string</td>\n",
       "      <td>NaN</td>\n",
       "    </tr>\n",
       "    <tr>\n",
       "      <th>anno</th>\n",
       "      <td>time</td>\n",
       "      <td>year</td>\n",
       "    </tr>\n",
       "  </tbody>\n",
       "</table>\n",
       "</div>"
      ],
      "text/plain": [
       "                           concept_type   domain\n",
       "concept                                         \n",
       "company                   entity_domain      NaN\n",
       "english_speaking_company     entity_set  company\n",
       "foundation                   entity_set  company\n",
       "name                             string      NaN\n",
       "anno                               time     year"
      ]
     },
     "execution_count": 11,
     "metadata": {},
     "output_type": "execute_result"
    }
   ],
   "source": [
    "concepts.head()"
   ]
  },
  {
   "cell_type": "code",
   "execution_count": 29,
   "metadata": {
    "collapsed": false
   },
   "outputs": [
    {
     "name": "stdout",
     "output_type": "stream",
     "text": [
      "concept not found: full_name\n",
      "concept not found: full_name\n",
      "concept not found: size\n"
     ]
    }
   ],
   "source": [
    "# create all files needed\n",
    "\n",
    "basepath = os.path.join('../../lang', lang)\n",
    "\n",
    "# columns don't need to be translated\n",
    "# if a concept is not in ddf--concept, you should mask it here.\n",
    "excluded_cols = ['concept', 'concept_type', 'domain']\n",
    "\n",
    "for res in datapackage['resources']:\n",
    "    \n",
    "#     # only run for entities\n",
    "#     if not ('ddf--entities' in res['path'] or 'ddf--concepts' in res['path']):\n",
    "#         continue\n",
    "    \n",
    "    path = res['path']\n",
    "    key = res['schema']['primaryKey']\n",
    "    \n",
    "    # create folder\n",
    "#     os.makedirs(os.path.join(basepath, path), exist_ok=True)\n",
    "    \n",
    "    # create each translation file.\n",
    "    df = pd.read_csv(os.path.join('../../', path))\n",
    "    \n",
    "    for c in df.columns:\n",
    "        if c in excluded_cols:\n",
    "            continue\n",
    "        if c.startswith('is--'): # it will be boolean, skip\n",
    "            continue\n",
    "            \n",
    "        try:\n",
    "            if concepts.loc[c, 'concept_type'] == 'string':\n",
    "                os.makedirs(os.path.join(basepath, path), exist_ok=True)\n",
    "                df.set_index(key)[[c]].to_csv(os.path.join(basepath, path, '{}.csv'.format(c)))\n",
    "        except KeyError:\n",
    "            print('concept not found: ' + c)\n",
    "            continue"
   ]
  },
  {
   "cell_type": "code",
   "execution_count": null,
   "metadata": {
    "collapsed": true
   },
   "outputs": [],
   "source": []
  },
  {
   "cell_type": "code",
   "execution_count": 30,
   "metadata": {
    "collapsed": false
   },
   "outputs": [
    {
     "name": "stdout",
     "output_type": "stream",
     "text": [
      "../../lang/zh_cn/\r\n",
      "├── ddf--datapoints--company_size_string--by--company--anno.csv\r\n",
      "│   └── company_size_string.csv\r\n",
      "├── ddf--entities--company--english_speaking.csv\r\n",
      "│   └── name.csv\r\n",
      "├── ddf--entities--company.csv\r\n",
      "│   ├── country.csv\r\n",
      "│   └── name.csv\r\n",
      "└── ddf--entities--region.csv\r\n",
      "    └── name.csv\r\n",
      "\r\n",
      "4 directories, 5 files\r\n"
     ]
    }
   ],
   "source": [
    "!tree ../../lang/zh_cn/"
   ]
  },
  {
   "cell_type": "markdown",
   "metadata": {},
   "source": [
    "After we finish translate the files, we should merge the splited files back to one file "
   ]
  },
  {
   "cell_type": "code",
   "execution_count": 31,
   "metadata": {
    "collapsed": false
   },
   "outputs": [
    {
     "data": {
      "text/plain": [
       "[('../../lang/zh_cn',\n",
       "  ['ddf--datapoints--company_size_string--by--company--anno.csv',\n",
       "   'ddf--entities--company--english_speaking.csv',\n",
       "   'ddf--entities--company.csv',\n",
       "   'ddf--entities--region.csv'],\n",
       "  []),\n",
       " ('../../lang/zh_cn/ddf--datapoints--company_size_string--by--company--anno.csv',\n",
       "  [],\n",
       "  ['company_size_string.csv']),\n",
       " ('../../lang/zh_cn/ddf--entities--company--english_speaking.csv',\n",
       "  [],\n",
       "  ['name.csv']),\n",
       " ('../../lang/zh_cn/ddf--entities--company.csv',\n",
       "  [],\n",
       "  ['country.csv', 'name.csv']),\n",
       " ('../../lang/zh_cn/ddf--entities--region.csv', [], ['name.csv'])]"
      ]
     },
     "execution_count": 31,
     "metadata": {},
     "output_type": "execute_result"
    }
   ],
   "source": [
    "[x for x in os.walk(basepath)]"
   ]
  },
  {
   "cell_type": "code",
   "execution_count": 39,
   "metadata": {
    "collapsed": false
   },
   "outputs": [],
   "source": [
    "import shutil"
   ]
  },
  {
   "cell_type": "code",
   "execution_count": 40,
   "metadata": {
    "collapsed": false
   },
   "outputs": [],
   "source": [
    "for f in next(os.walk(basepath))[1]:\n",
    "    dir_path = os.path.join(basepath, f)\n",
    "    to_concat = [pd.read_csv(os.path.join(dir_path, x), index_col=0) for x in os.listdir(dir_path)]\n",
    "    \n",
    "    df = pd.concat(to_concat, axis=1)\n",
    "    \n",
    "    # remove the folders first\n",
    "    shutil.rmtree(dir_path)\n",
    "    # then save csv file to the same path\n",
    "    df.to_csv(dir_path)"
   ]
  },
  {
   "cell_type": "code",
   "execution_count": null,
   "metadata": {
    "collapsed": true
   },
   "outputs": [],
   "source": []
  }
 ],
 "metadata": {
  "kernelspec": {
   "display_name": "Python 3",
   "language": "python",
   "name": "python3"
  },
  "language_info": {
   "codemirror_mode": {
    "name": "ipython",
    "version": 3
   },
   "file_extension": ".py",
   "mimetype": "text/x-python",
   "name": "python",
   "nbconvert_exporter": "python",
   "pygments_lexer": "ipython3",
   "version": "3.5.2"
  }
 },
 "nbformat": 4,
 "nbformat_minor": 0
}
